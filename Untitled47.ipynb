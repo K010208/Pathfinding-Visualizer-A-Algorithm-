{
 "cells": [
  {
   "cell_type": "code",
   "execution_count": 6,
   "id": "2f07f1bf-84ea-409f-9033-3fa36557e61e",
   "metadata": {},
   "outputs": [
    {
     "name": "stdout",
     "output_type": "stream",
     "text": [
      "[4, 11, 20, 22, 26, 30, 33, 33, 38, 38]\n"
     ]
    },
    {
     "data": {
      "text/plain": [
       "[4, 11, 20, 22, 26, 30, 33, 33, 38, 38]"
      ]
     },
     "execution_count": 6,
     "metadata": {},
     "output_type": "execute_result"
    }
   ],
   "source": [
    "import random\n",
    "import time\n",
    "from IPython.display import clear_output, display\n",
    "\n",
    "def bubble_sort(arr):\n",
    "    n = len(arr)\n",
    "    for i in range(n):\n",
    "        for j in range(0, n-i-1):\n",
    "            if arr[j] > arr[j+1]:\n",
    "                arr[j], arr[j+1] = arr[j+1], arr[j]\n",
    "                clear_output(wait=True)\n",
    "                print(arr)\n",
    "                time.sleep(0.2)\n",
    "    return arr\n",
    "\n",
    "# Example usage in Jupyter\n",
    "arr = [random.randint(1, 50) for _ in range(10)]\n",
    "print(\"Original array:\", arr)\n",
    "bubble_sort(arr)\n"
   ]
  },
  {
   "cell_type": "code",
   "execution_count": 7,
   "id": "faa2e7c3-dcdb-40c8-a55f-779c67b73d51",
   "metadata": {},
   "outputs": [
    {
     "name": "stdout",
     "output_type": "stream",
     "text": [
      "Path found:\n",
      "* 1 0 0 0\n",
      "* 1 0 1 0\n",
      "* * * 1 0\n",
      "1 1 * * *\n",
      "0 0 0 1 *\n"
     ]
    }
   ],
   "source": [
    "# astar_pathfinder.py\n",
    "\n",
    "import heapq\n",
    "\n",
    "def heuristic(a, b):\n",
    "    # Manhattan distance\n",
    "    return abs(a[0]-b[0]) + abs(a[1]-b[1])\n",
    "\n",
    "def astar(grid, start, end):\n",
    "    rows, cols = len(grid), len(grid[0])\n",
    "    open_set = []\n",
    "    heapq.heappush(open_set, (0, start))\n",
    "    came_from = {}\n",
    "    g_score = {start: 0}\n",
    "\n",
    "    while open_set:\n",
    "        current = heapq.heappop(open_set)[1]\n",
    "\n",
    "        if current == end:\n",
    "            # reconstruct path\n",
    "            path = []\n",
    "            while current in came_from:\n",
    "                path.append(current)\n",
    "                current = came_from[current]\n",
    "            path.append(start)\n",
    "            path.reverse()\n",
    "            return path\n",
    "\n",
    "        for dr, dc in [(-1,0),(1,0),(0,-1),(0,1)]:\n",
    "            nr, nc = current[0]+dr, current[1]+dc\n",
    "            neighbor = (nr, nc)\n",
    "            if 0<=nr<rows and 0<=nc<cols and grid[nr][nc]==0:\n",
    "                tentative_g = g_score[current] + 1\n",
    "                if neighbor not in g_score or tentative_g < g_score[neighbor]:\n",
    "                    g_score[neighbor] = tentative_g\n",
    "                    f_score = tentative_g + heuristic(neighbor, end)\n",
    "                    heapq.heappush(open_set, (f_score, neighbor))\n",
    "                    came_from[neighbor] = current\n",
    "    return None\n",
    "\n",
    "def print_grid(grid, path=None):\n",
    "    grid_copy = [row[:] for row in grid]\n",
    "    if path:\n",
    "        for r, c in path:\n",
    "            grid_copy[r][c] = \"*\"\n",
    "    for row in grid_copy:\n",
    "        print(\" \".join(str(x) if x!=\"*\" else \"*\" for x in row))\n",
    "\n",
    "if __name__ == \"__main__\":\n",
    "    grid = [\n",
    "        [0,1,0,0,0],\n",
    "        [0,1,0,1,0],\n",
    "        [0,0,0,1,0],\n",
    "        [1,1,0,0,0],\n",
    "        [0,0,0,1,0]\n",
    "    ]\n",
    "    start = (0,0)\n",
    "    end = (4,4)\n",
    "\n",
    "    path = astar(grid, start, end)\n",
    "    if path:\n",
    "        print(\"Path found:\")\n",
    "        print_grid(grid, path)\n",
    "    else:\n",
    "        print(\"No path found!\")\n"
   ]
  },
  {
   "cell_type": "code",
   "execution_count": null,
   "id": "27c10c89-c6cf-49d5-ba77-7daf9e8674d4",
   "metadata": {},
   "outputs": [],
   "source": []
  }
 ],
 "metadata": {
  "kernelspec": {
   "display_name": "anaconda-2024.02-py310",
   "language": "python",
   "name": "conda-env-anaconda-2024.02-py310-py"
  },
  "language_info": {
   "codemirror_mode": {
    "name": "ipython",
    "version": 3
   },
   "file_extension": ".py",
   "mimetype": "text/x-python",
   "name": "python",
   "nbconvert_exporter": "python",
   "pygments_lexer": "ipython3",
   "version": "3.10.14"
  }
 },
 "nbformat": 4,
 "nbformat_minor": 5
}
